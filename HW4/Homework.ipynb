{
 "cells": [
  {
   "cell_type": "code",
   "execution_count": 9,
   "metadata": {},
   "outputs": [],
   "source": [
    "from datetime import date\n",
    "import datetime"
   ]
  },
  {
   "cell_type": "code",
   "execution_count": 10,
   "metadata": {},
   "outputs": [],
   "source": [
    "class Human:\n",
    "    def __init__(self, nume, prenume, ziua_nasterii, luna_nasterii, anul_nasterii):\n",
    "        self.nume = nume\n",
    "        self.prenume = prenume\n",
    "        self.data_nasterii = datetime.date(anul_nasterii, luna_nasterii, ziua_nasterii)\n",
    "    \n",
    "    def calculeaza_varsta(self):\n",
    "        astazi = date.today()\n",
    "        return astazi - self.data_nasterii"
   ]
  },
  {
   "cell_type": "code",
   "execution_count": 17,
   "metadata": {},
   "outputs": [],
   "source": [
    "class Elev(Human):\n",
    "    def __init__(self, nume, prenume, ziua_nasterii, luna_nasterii, anul_nasterii, clasa, nota_medie):\n",
    "        super().__init__(nume, prenume, ziua_nasterii, luna_nasterii, anul_nasterii)\n",
    "        self.clasa = clasa\n",
    "        self.nota_medie = nota_medie\n",
    "    \n",
    "    def este_eminent(self):\n",
    "        if self.nota_medie >= 9.0:\n",
    "            return 'eminent'\n",
    "        elif self.nota_medie >= 8.0:\n",
    "            return 'medium'\n",
    "        else:\n",
    "            return 'nu este eminent'"
   ]
  },
  {
   "cell_type": "code",
   "execution_count": 19,
   "metadata": {},
   "outputs": [],
   "source": [
    "class Profesor(Human):\n",
    "    def __init__(self, nume, prenume, ziua_nasterii, luna_nasterii, anul_nasterii, discipline, salariu):\n",
    "        super().__init__(nume, prenume, ziua_nasterii, luna_nasterii, anul_nasterii)\n",
    "        self.salariu = salariu\n",
    "        self.discipline = discipline\n",
    "    \n",
    "    def salariu_anual(self):\n",
    "        return self.salariu * 12\n",
    "    \n",
    "    def nr_discipline(self):\n",
    "        return len(self.discipline)"
   ]
  },
  {
   "cell_type": "code",
   "execution_count": 20,
   "metadata": {},
   "outputs": [
    {
     "name": "stdout",
     "output_type": "stream",
     "text": [
      "7622\n"
     ]
    }
   ],
   "source": [
    "om1 = Human('Pavel', 'Ceborari', 2, 6, 2000)\n",
    "print(om1.calculeaza_varsta().days)"
   ]
  },
  {
   "cell_type": "code",
   "execution_count": 21,
   "metadata": {},
   "outputs": [
    {
     "name": "stdout",
     "output_type": "stream",
     "text": [
      "5334\n",
      "eminent\n"
     ]
    }
   ],
   "source": [
    "om2 = Elev('Mihai', 'Moglan', 7, 9, 2006, '8C', 9.67)\n",
    "print(om2.calculeaza_varsta().days)\n",
    "print(om2.este_eminent())"
   ]
  },
  {
   "cell_type": "code",
   "execution_count": 22,
   "metadata": {},
   "outputs": [
    {
     "name": "stdout",
     "output_type": "stream",
     "text": [
      "19520\n",
      "249117.36\n",
      "4\n"
     ]
    }
   ],
   "source": [
    "om3 = Profesor('Elena', 'Lungu', 5, 11, 1967, ['limba romana', 'istora', 'geografia', 'psihologie'], 20759.78)\n",
    "print(om3.calculeaza_varsta().days)\n",
    "print(om3.salariu_anual())\n",
    "print(om3.nr_discipline())"
   ]
  },
  {
   "cell_type": "code",
   "execution_count": null,
   "metadata": {},
   "outputs": [],
   "source": []
  }
 ],
 "metadata": {
  "kernelspec": {
   "display_name": "Python 3",
   "language": "python",
   "name": "python3"
  },
  "language_info": {
   "codemirror_mode": {
    "name": "ipython",
    "version": 3
   },
   "file_extension": ".py",
   "mimetype": "text/x-python",
   "name": "python",
   "nbconvert_exporter": "python",
   "pygments_lexer": "ipython3",
   "version": "3.8.5"
  }
 },
 "nbformat": 4,
 "nbformat_minor": 4
}
